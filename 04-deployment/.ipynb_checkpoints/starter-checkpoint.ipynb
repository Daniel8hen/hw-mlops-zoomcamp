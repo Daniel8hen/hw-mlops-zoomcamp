{
 "cells": [
  {
   "cell_type": "code",
   "execution_count": 1,
   "id": "0ef880a0",
   "metadata": {},
   "outputs": [],
   "source": [
    "import pickle\n",
    "import pandas as pd\n",
    "import os\n",
    "\n",
    "# !pip freeze | grep scikit-learn\n",
    "# scikit-learn @ file:///tmp/build/80754af9/scikit-learn_1642617106979/work\n",
    "# scikit-learn-intelex==2021.20220215.212715"
   ]
  },
  {
   "cell_type": "code",
   "execution_count": 2,
   "id": "84f7533c",
   "metadata": {},
   "outputs": [],
   "source": [
    "year = 2021\n",
    "month = 3\n",
    "output_file = f\"output/predictions_df_fhv_tripdata_{year:04d}-{month:02d}.parquet\"\n",
    "input_file = f'https://nyc-tlc.s3.amazonaws.com/trip+data/fhv_tripdata_{year:04d}-{month:02d}.parquet'\n",
    "model_path = 'model.bin'\n",
    "categorical = ['PUlocationID', 'DOlocationID']"
   ]
  },
  {
   "cell_type": "code",
   "execution_count": 3,
   "id": "7836ccfd",
   "metadata": {},
   "outputs": [],
   "source": [
    "def load_model(path, perm='rb'):\n",
    "    with open(path, perm) as f_in:\n",
    "        dv, lr = pickle.load(f_in)\n",
    "    return dv, lr"
   ]
  },
  {
   "cell_type": "code",
   "execution_count": 4,
   "id": "41c08294",
   "metadata": {},
   "outputs": [],
   "source": [
    "def read_data(filename):\n",
    "    print(\"Going to load data from:\", filename)\n",
    "    df = pd.read_parquet(filename)\n",
    "    df['ride_id'] = '{year:04d}/{month:02d}_' + df.index.astype('str')\n",
    "    df['duration'] = df.dropOff_datetime - df.pickup_datetime\n",
    "    df['duration'] = df.duration.dt.total_seconds() / 60\n",
    "\n",
    "    df = df[(df.duration >= 1) & (df.duration <= 60)].copy()\n",
    "\n",
    "    df[categorical] = df[categorical].fillna(-1).astype('int').astype('str')\n",
    "    \n",
    "    return df"
   ]
  },
  {
   "cell_type": "code",
   "execution_count": 5,
   "id": "669fda0a",
   "metadata": {},
   "outputs": [],
   "source": [
    "def apply_model(model_path, input_file, output_file, categorical=categorical):\n",
    "    df = read_data(input_file)\n",
    "    dicts = df[categorical].to_dict(orient='records')\n",
    "    dv, lr = load_model(model_path)\n",
    "    X_val = dv.transform(dicts)\n",
    "    y_pred = lr.predict(X_val)\n",
    "    print(\"predictions mean are:\", y_pred.mean())\n",
    "    \n",
    "    print(\"Going to prepare a new DF and save it for batch purposes...\")\n",
    "    df_result = pd.DataFrame()\n",
    "    df_result['ride_id'] = df['ride_id']\n",
    "    df_result['predicted_duration'] = y_pred\n",
    "    \n",
    "    print(\"Saving DF in parquet...\")\n",
    "    df_result.to_parquet(\n",
    "        output_file,\n",
    "        engine='pyarrow',\n",
    "        compression=None,\n",
    "        index=False\n",
    "    )\n",
    "    print(f\"DF saved in {output_file}\")\n",
    "    \n",
    "    print(\"Size of the DF output (in MBs) is:\", round(os.path.getsize(output_file) / 1024 / 1024, 3))"
   ]
  },
  {
   "cell_type": "code",
   "execution_count": 6,
   "id": "f5c97142",
   "metadata": {},
   "outputs": [
    {
     "name": "stdout",
     "output_type": "stream",
     "text": [
      "Going to load data from: https://nyc-tlc.s3.amazonaws.com/trip+data/fhv_tripdata_2021-03.parquet\n",
      "predictions mean are: 16.298821614015107\n",
      "Going to prepare a new DF and save it for batch purposes...\n",
      "Saving DF in parquet...\n",
      "DF saved in output/predictions_df_fhv_tripdata_2021-03.parquet\n",
      "Size of the DF output (in MBs) is: 41.423\n"
     ]
    }
   ],
   "source": [
    "apply_model(model_path, input_file, output_file)"
   ]
  },
  {
   "cell_type": "code",
   "execution_count": 7,
   "id": "823a9727",
   "metadata": {},
   "outputs": [
    {
     "name": "stdout",
     "output_type": "stream",
     "text": [
      "predictions_df_fhv_tripdata_2021-02.parquet\r\n",
      "predictions_df_fhv_tripdata_2021-03.parquet\r\n"
     ]
    }
   ],
   "source": [
    "!ls output/"
   ]
  }
 ],
 "metadata": {
  "kernelspec": {
   "display_name": "Python 3 (ipykernel)",
   "language": "python",
   "name": "python3"
  },
  "language_info": {
   "codemirror_mode": {
    "name": "ipython",
    "version": 3
   },
   "file_extension": ".py",
   "mimetype": "text/x-python",
   "name": "python",
   "nbconvert_exporter": "python",
   "pygments_lexer": "ipython3",
   "version": "3.9.12"
  }
 },
 "nbformat": 4,
 "nbformat_minor": 5
}
