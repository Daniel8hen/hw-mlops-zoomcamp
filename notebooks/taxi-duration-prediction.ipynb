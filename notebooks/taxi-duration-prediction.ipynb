{
 "cells": [
  {
   "cell_type": "markdown",
   "id": "fefc1515",
   "metadata": {},
   "source": [
    "### Imports"
   ]
  },
  {
   "cell_type": "code",
   "execution_count": 1,
   "id": "63c67dfc",
   "metadata": {},
   "outputs": [],
   "source": [
    "import pandas as pd\n",
    "import seaborn as sns\n",
    "import matplotlib.pyplot as plt\n",
    "from sklearn.feature_extraction import DictVectorizer\n",
    "from sklearn.linear_model import LinearRegression\n",
    "from sklearn.metrics import mean_squared_error\n",
    "import pickle\n",
    "\n",
    "# Remove scientifit notation\n",
    "pd.set_option('display.float_format', lambda x: '%.5f' % x)"
   ]
  },
  {
   "cell_type": "code",
   "execution_count": 2,
   "id": "7efb9882",
   "metadata": {},
   "outputs": [],
   "source": [
    "categorical_cols = ['PUlocationID', 'DOlocationID']\n",
    "target = 'duration'"
   ]
  },
  {
   "cell_type": "code",
   "execution_count": 3,
   "id": "8bca720b",
   "metadata": {},
   "outputs": [],
   "source": [
    "january_df = pd.read_parquet(\"./data/fhv_tripdata_2021-01.parquet\")\n"
   ]
  },
  {
   "cell_type": "markdown",
   "id": "01542e36",
   "metadata": {},
   "source": [
    "### Q1: How many records are for January, 2021?"
   ]
  },
  {
   "cell_type": "code",
   "execution_count": 4,
   "id": "82e93274",
   "metadata": {},
   "outputs": [
    {
     "data": {
      "text/plain": [
       "dispatching_base_num      1154112\n",
       "pickup_datetime           1154112\n",
       "dropOff_datetime          1154112\n",
       "PUlocationID               195845\n",
       "DOlocationID               991892\n",
       "SR_Flag                         0\n",
       "Affiliated_base_number    1153227\n",
       "dtype: int64"
      ]
     },
     "execution_count": 4,
     "metadata": {},
     "output_type": "execute_result"
    }
   ],
   "source": [
    "january_df.count()\n",
    "# Answer: 1154112 (Note: The below is due to code cleaning, ignore the output here)"
   ]
  },
  {
   "cell_type": "markdown",
   "id": "57113e19",
   "metadata": {},
   "source": [
    "### Q2: Duration (in minutes) analysis\n",
    "What's the average trip duration in January?"
   ]
  },
  {
   "cell_type": "code",
   "execution_count": 5,
   "id": "93b55a02",
   "metadata": {},
   "outputs": [],
   "source": [
    "# Convert string to datetime (pickup datetime, dropoff datetime)\n",
    "def cnvrt_from_str_to_datetime(col):\n",
    "    return pd.to_datetime(col)\n",
    "\n",
    "# Creating duration column using diff between drop off, pickup time and seconds to minutes conversion\n",
    "def generate_duration_col(df, drop_off_col, pickup_col):\n",
    "    df['duration'] = df[drop_off_col] - df[pickup_col]\n",
    "    df['duration'] = df.duration.apply(lambda td: td.total_seconds() / 60)\n",
    "    \n",
    "    return df"
   ]
  },
  {
   "cell_type": "code",
   "execution_count": 6,
   "id": "ee31b2a7",
   "metadata": {},
   "outputs": [],
   "source": [
    "january_df.pickup_datetime = cnvrt_from_str_to_datetime(january_df.pickup_datetime)\n",
    "january_df.dropOff_datetime = cnvrt_from_str_to_datetime(january_df.dropOff_datetime)\n",
    "\n",
    "january_df = generate_duration_col(df=january_df, drop_off_col='dropOff_datetime', pickup_col='pickup_datetime')"
   ]
  },
  {
   "cell_type": "code",
   "execution_count": 7,
   "id": "89eca7ff",
   "metadata": {},
   "outputs": [
    {
     "data": {
      "text/plain": [
       "19.1672240937939"
      ]
     },
     "execution_count": 7,
     "metadata": {},
     "output_type": "execute_result"
    }
   ],
   "source": [
    "january_df.duration.mean()\n",
    "# Answer: 19.16 minutes"
   ]
  },
  {
   "cell_type": "markdown",
   "id": "864fb785",
   "metadata": {},
   "source": [
    "### Data preparation"
   ]
  },
  {
   "cell_type": "markdown",
   "id": "4f930a90",
   "metadata": {},
   "source": [
    "#### duration (label) distribution"
   ]
  },
  {
   "cell_type": "code",
   "execution_count": 8,
   "id": "e2c13a0a",
   "metadata": {},
   "outputs": [
    {
     "name": "stderr",
     "output_type": "stream",
     "text": [
      "/home/ubuntu/anaconda3/lib/python3.9/site-packages/seaborn/distributions.py:2619: FutureWarning: `distplot` is a deprecated function and will be removed in a future version. Please adapt your code to use either `displot` (a figure-level function with similar flexibility) or `histplot` (an axes-level function for histograms).\n",
      "  warnings.warn(msg, FutureWarning)\n"
     ]
    },
    {
     "data": {
      "text/plain": [
       "<AxesSubplot:xlabel='duration', ylabel='Density'>"
      ]
     },
     "execution_count": 8,
     "metadata": {},
     "output_type": "execute_result"
    },
    {
     "data": {
      "image/png": "[encoded data removed]",
      "text/plain": [
       "<Figure size 432x288 with 1 Axes>"
      ]
     },
     "metadata": {
      "needs_background": "light"
     },
     "output_type": "display_data"
    }
   ],
   "source": [
    "sns.distplot(january_df.duration)"
   ]
  },
  {
   "cell_type": "markdown",
   "id": "671ce6e3",
   "metadata": {},
   "source": [
    "#### Describe on duration column"
   ]
  },
  {
   "cell_type": "code",
   "execution_count": 9,
   "id": "6e501716",
   "metadata": {},
   "outputs": [
    {
     "data": {
      "text/plain": [
       "count   1154112.00000\n",
       "mean         19.16722\n",
       "std         398.69216\n",
       "min           0.01667\n",
       "50%          13.40000\n",
       "95%          47.25000\n",
       "98%          66.13333\n",
       "99%          90.30000\n",
       "max      423371.05000\n",
       "Name: duration, dtype: float64"
      ]
     },
     "execution_count": 9,
     "metadata": {},
     "output_type": "execute_result"
    }
   ],
   "source": [
    "january_df.duration.describe(percentiles=[0.95, 0.98, 0.99])"
   ]
  },
  {
   "cell_type": "code",
   "execution_count": 10,
   "id": "41a72da2",
   "metadata": {},
   "outputs": [],
   "source": [
    "# Filtering duration >= 1 and duration <= 60 - business point of view\n",
    "# We started with 1154112 records\n",
    "january_df = january_df[(january_df.duration >= 1) & (january_df.duration <= 60)]"
   ]
  },
  {
   "cell_type": "code",
   "execution_count": 11,
   "id": "284c8fb1",
   "metadata": {},
   "outputs": [
    {
     "data": {
      "text/plain": [
       "count   1109826.00000\n",
       "mean         16.24725\n",
       "std          11.55150\n",
       "min           1.00000\n",
       "25%           7.85000\n",
       "50%          13.23333\n",
       "75%          21.46667\n",
       "max          60.00000\n",
       "Name: duration, dtype: float64"
      ]
     },
     "execution_count": 11,
     "metadata": {},
     "output_type": "execute_result"
    }
   ],
   "source": [
    "january_df['duration'].describe()\n",
    "# Q: How many records did you drop?\n",
    "# A: We left with 1109826 records - removal of 44286 records"
   ]
  },
  {
   "cell_type": "markdown",
   "id": "a50da6a2",
   "metadata": {},
   "source": [
    "### Q3. Missing Values"
   ]
  },
  {
   "cell_type": "code",
   "execution_count": 12,
   "id": "32bba6c5",
   "metadata": {},
   "outputs": [],
   "source": [
    "# Replacing the specific columns NaN's with -1\n",
    "january_df[categorical_cols] = january_df[categorical_cols].fillna(value=-1)"
   ]
  },
  {
   "cell_type": "code",
   "execution_count": 13,
   "id": "a104b2ec",
   "metadata": {},
   "outputs": [
    {
     "data": {
      "text/plain": [
       "0.8352732770722617"
      ]
     },
     "execution_count": 13,
     "metadata": {},
     "output_type": "execute_result"
    }
   ],
   "source": [
    "# Q: What's the fractions of missing values for the pickup location ID? I.e. fraction of \"-1\"s after you filled the NAs.\n",
    "# A: 83% (calculation below)\n",
    "# Explanation: calculating # of \"-1\" in that column / total records in that column\n",
    "january_df[(january_df['PUlocationID'] == -1)]['PUlocationID'].count() / january_df['PUlocationID'].count()\n",
    "# Note: It's 0.0 now as we've transformed the dataset already."
   ]
  },
  {
   "cell_type": "markdown",
   "id": "53176f55",
   "metadata": {},
   "source": [
    "### Q4: One-hot encoding"
   ]
  },
  {
   "cell_type": "code",
   "execution_count": 14,
   "id": "c8e913af",
   "metadata": {},
   "outputs": [],
   "source": [
    "january_df[categorical_cols] = january_df[categorical_cols].astype(str)"
   ]
  },
  {
   "cell_type": "code",
   "execution_count": 15,
   "id": "75fb31fa",
   "metadata": {},
   "outputs": [],
   "source": [
    "# The goal of the below is to generate X_train, y_train, X_val, y_val\n",
    "dv = DictVectorizer()\n",
    "train_dicts = january_df[categorical_cols].to_dict(orient='records')\n",
    "\n",
    "X_train = dv.fit_transform(train_dicts)\n",
    "y_train = january_df[target].values"
   ]
  },
  {
   "cell_type": "code",
   "execution_count": 16,
   "id": "c9e84867",
   "metadata": {},
   "outputs": [
    {
     "data": {
      "text/plain": [
       "525"
      ]
     },
     "execution_count": 16,
     "metadata": {},
     "output_type": "execute_result"
    }
   ],
   "source": [
    "### Q: What's the dimensionality of this matrix? (The number of columns)\n",
    "### A: 525\n",
    "X_train.shape[1]"
   ]
  },
  {
   "cell_type": "code",
   "execution_count": 17,
   "id": "fc8c4fea",
   "metadata": {},
   "outputs": [],
   "source": [
    "target = 'duration'\n",
    "y_train = january_df[target].values\n",
    "# y_val = february_df[target].values"
   ]
  },
  {
   "cell_type": "code",
   "execution_count": 18,
   "id": "e7f969e8",
   "metadata": {},
   "outputs": [],
   "source": [
    "assert X_train.shape[0] == y_train.shape[0]"
   ]
  },
  {
   "cell_type": "markdown",
   "id": "fd900dce",
   "metadata": {},
   "source": [
    "### Q5: Training a model"
   ]
  },
  {
   "cell_type": "code",
   "execution_count": 19,
   "id": "0fce9a56",
   "metadata": {},
   "outputs": [
    {
     "data": {
      "text/plain": [
       "LinearRegression()"
      ]
     },
     "execution_count": 19,
     "metadata": {},
     "output_type": "execute_result"
    }
   ],
   "source": [
    "lr = LinearRegression()\n",
    "lr.fit(X_train, y_train)\n",
    "\n",
    "# predicting on validation"
   ]
  },
  {
   "cell_type": "code",
   "execution_count": 20,
   "id": "41da9ace",
   "metadata": {},
   "outputs": [],
   "source": [
    "y_pred_train = lr.predict(X_train)"
   ]
  },
  {
   "cell_type": "code",
   "execution_count": 21,
   "id": "25205f13",
   "metadata": {},
   "outputs": [
    {
     "name": "stderr",
     "output_type": "stream",
     "text": [
      "/home/ubuntu/anaconda3/lib/python3.9/site-packages/seaborn/distributions.py:2619: FutureWarning: `distplot` is a deprecated function and will be removed in a future version. Please adapt your code to use either `displot` (a figure-level function with similar flexibility) or `histplot` (an axes-level function for histograms).\n",
      "  warnings.warn(msg, FutureWarning)\n",
      "/home/ubuntu/anaconda3/lib/python3.9/site-packages/seaborn/distributions.py:2619: FutureWarning: `distplot` is a deprecated function and will be removed in a future version. Please adapt your code to use either `displot` (a figure-level function with similar flexibility) or `histplot` (an axes-level function for histograms).\n",
      "  warnings.warn(msg, FutureWarning)\n"
     ]
    },
    {
     "data": {
      "text/plain": [
       "<matplotlib.legend.Legend at 0x7fd660799070>"
      ]
     },
     "execution_count": 21,
     "metadata": {},
     "output_type": "execute_result"
    },
    {
     "data": {
      "image/png": "[encoded data removed]",
      "text/plain": [
       "<Figure size 432x288 with 1 Axes>"
      ]
     },
     "metadata": {
      "needs_background": "light"
     },
     "output_type": "display_data"
    }
   ],
   "source": [
    "sns.distplot(y_pred_train, label='prediction')\n",
    "sns.distplot(y_train, label='actual')\n",
    "\n",
    "plt.legend()"
   ]
  },
  {
   "cell_type": "code",
   "execution_count": 22,
   "id": "0f8746de",
   "metadata": {},
   "outputs": [
    {
     "data": {
      "text/plain": [
       "10.5285191072072"
      ]
     },
     "execution_count": 22,
     "metadata": {},
     "output_type": "execute_result"
    }
   ],
   "source": [
    "# RMSE\n",
    "mean_squared_error(y_pred_train, y_train, squared=False)\n",
    "# Q: What's the RMSE on train?\n",
    "# A: 10.52"
   ]
  },
  {
   "cell_type": "markdown",
   "id": "bb086a72",
   "metadata": {},
   "source": [
    "### Q6. Evaluating the model"
   ]
  },
  {
   "cell_type": "code",
   "execution_count": 23,
   "id": "e767d99d",
   "metadata": {},
   "outputs": [],
   "source": [
    "# February DF - let's define a generic function that will be used for Feb DF preprocessing (in order not to duplicate code)\n",
    "# Note: Not filtering 1 to 60 as in train (?)\n",
    "def process_df(filename, categorical_cols = categorical_cols, target=target):\n",
    "    df = pd.read_parquet(filename)\n",
    "    df.pickup_datetime = cnvrt_from_str_to_datetime(df.pickup_datetime)\n",
    "    df.dropOff_datetime = cnvrt_from_str_to_datetime(df.dropOff_datetime)\n",
    "    df = generate_duration_col(df=df, drop_off_col='dropOff_datetime', pickup_col='pickup_datetime')\n",
    "    \n",
    "    # Replace NA with -1\n",
    "    df[categorical_cols] = df[categorical_cols].fillna(value=-1)\n",
    "    df[categorical_cols] = df[categorical_cols].astype(str)\n",
    "    \n",
    "    # Filter relevant records\n",
    "    df = df[(df.duration >= 1) & (df.duration <= 60)]\n",
    "    \n",
    "    # DictVectorizer + OneHotEncoding\n",
    "    data_dicts = df[categorical_cols].to_dict(orient='records')\n",
    "    \n",
    "    X = dv.transform(data_dicts)\n",
    "    y = df[target].values\n",
    "    \n",
    "    return X, y"
   ]
  },
  {
   "cell_type": "code",
   "execution_count": 24,
   "id": "9801cee6",
   "metadata": {},
   "outputs": [
    {
     "data": {
      "text/plain": [
       "11.014283163400654"
      ]
     },
     "execution_count": 24,
     "metadata": {},
     "output_type": "execute_result"
    }
   ],
   "source": [
    "X_val, y_val = process_df(filename=\"./data/fhv_tripdata_2021-02.parquet\")\n",
    "    \n",
    "y_pred_val = lr.predict(X_val)\n",
    "# Q: What's the RMSE on validation?\n",
    "# A: 11.01\n",
    "mean_squared_error(y_val, y_pred_val, squared=False)"
   ]
  }
 ],
 "metadata": {
  "kernelspec": {
   "display_name": "Python 3 (ipykernel)",
   "language": "python",
   "name": "python3"
  },
  "language_info": {
   "codemirror_mode": {
    "name": "ipython",
    "version": 3
   },
   "file_extension": ".py",
   "mimetype": "text/x-python",
   "name": "python",
   "nbconvert_exporter": "python",
   "pygments_lexer": "ipython3",
   "version": "3.9.12"
  }
 },
 "nbformat": 4,
 "nbformat_minor": 5
}
